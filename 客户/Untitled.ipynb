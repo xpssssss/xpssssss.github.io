{
 "cells": [
  {
   "cell_type": "code",
   "execution_count": 4,
   "metadata": {
    "ExecuteTime": {
     "end_time": "2023-02-06T02:49:31.560349Z",
     "start_time": "2023-02-06T02:49:31.286898Z"
    }
   },
   "outputs": [
    {
     "name": "stdout",
     "output_type": "stream",
     "text": [
      "0 一、单项选择题\n",
      "1 1.社会工作的基本对象是指 （）。\n",
      "2 A.由于个人、社会或自然原因而陷于生活极度困难的群体\n",
      "3 B.所有的社会成员  C .贫困人员  D .遭受各种灾害的人员  E.灾区群众\n",
      "4 2.有位上高一的少年，生活在一个单亲家庭里。他很听话，学习成绩也很优秀，但由于他对现代教育制度中存在的一些问题不满，并逐步发展到恐惧学校、厌恶学校。期间他曾自杀两次，后退学在家，但退学时成绩仍很好。医生诊断其患了抑郁症。此少年存在的问题主要有两个方面∶一是抑郁症；一是学校恐惧症。在本案例中，此少年父母离异可能会导致他缺少家长的悉心照顾，当然也与家庭缺乏正常的必要沟通与交流有关，因而使他变得孤僻、抑郁。另外，此少年患的学校恐惧症可能与其学习压力有关。当前我国正处于由应试教育向素质教育的转轨时期，学校和社会对学生的考试成绩过于重视，让学生感到压力很大。本案例中，此少年尽管学习成绩很好，但由于他承受不了学习的压力，或者感受不到学习的乐趣，从而产生对现代教育体制的厌恶，进而发展到恐惧学校、逃避学校' 甚至为了避免去学校而产生自杀的念头。此案例属于学校社会工作方式中的（ ).\n",
      "5 A.治疗型学校社会工作 B .变迁型学校社会工作 C .社区一学校社会工作\n",
      "6 D.任务型学校社会工作 E .适应型学校社会工作\n",
      "7 社会工作在本质上属于 （）。\n",
      "8 A.公益行动 B .社会实践 C .价值取向 D .个人理念 E .道德实践\n",
      "9 4.（）于1965年提出了社会工作价值体系。\n",
      "10 A.比斯台克 B .马斯洛 C .戈登 D .勒温 E .泰勒\n",
      "11 5.（）原则是社会工作专业对公众的统一服务态度，是建立专业协助关系的伦理前提。\n",
      "12 A.尊重 B .保密 C .不批判 D.接纳 E .个别化\n",
      "13 6.本能行为是指 （）。\n",
      "14 A.人与生俱来的行为模式 B .出生以后形成的行为模式C.模仿的行为模式 D .后天习得的行为 E .社会性行为\n",
      "15 7，社会环境是指与人类生物遗传、 心理状态及社会过程相互作用的社会系统。 下列不属于社会环境的是（）。\n",
      "16 A .家庭 B .山川 C .风俗习惯 D .社区 E .报纸\n",
      "17 （）是行为治疗技术中应用最广的治疗技术之一，要求服务对象通过身体的放松舒缓生理和心理的紧张。\n",
      "18 A .放松练习 B .系统脱敏 C .满灌疗法 D .厌恶疗法 E .模仿\n",
      "19 9.（）是社会工作价值观的理论基础。\n",
      "20 A.人文主义 B .人道主义 C .人本主义 D.发展主义 E .科学主义\n",
      "21 10.在操作层面上，社会工作价值观可以概括为如下原则，其中不正确的选项是(  )。\n",
      "22 A.接纳与个别化 B .尊重与保密 C .自决权与知情同意D.不批判 E .的权威与机构的效益\n",
      "23 11.（）是行为治疗模式的核心特点。\n",
      "24 A。注重服务对象行为评估 B .关注服务对象行为修正 C 侧重修正行为效果的评估 D 注重社会工作者自身的品格和态度 E .强调个案辅导关系\n",
      "25 12.社会工作者必须具备一定的知识基础，下列选项中不正确的是(  )。\n",
      "26 A.理论方面的知识 B .政策方面的知识 C .技术方面的知识\n",
      "27 D.文化方面的知识 E .科技方面的知识\n",
      "28 13.关于个人与环境的关系，社会工作的专业观点认为 （）。\n",
      "29 A.个人只能被动地顺从环境 B .个人可以随意地改变环境\n",
      "30 C.人在环境之中，人与社会环境是相互依存的E .个人的问题和环境无关\n",
      "31 D.个人的问题主要是由于环境造成的\n",
      "32 14.社会工作者承担的间接服务角色不包括 （）。\n",
      "33 A.倡导者 B .管理者 C.资源争取者 D.政策影响人 E.研究者\n",
      "34 15.社会工作者借助头和身体语言让服务对象感受到被理解、 被接纳的一系列技术被称为 （）技巧。 \n",
      "35 A .支持性 B .引领性 C .影响性 D .关注性 E .接纳性\n",
      "36 下列关于心理社会治疗模式的描述中，错误的是 （）。\n",
      "37 服务对象受到生理、心理和社会等三个方面因素的影响\n",
      "38 服务对象的问题与其早年的生活经历有关\n",
      "39 服务对象的问题与其不良的理性处理能力相关\n",
      "40 注重从人际交往的场景中了解服务对象\n",
      "41 只是强调工作关系，认为专业技巧无足轻重\n",
      "42 17.下列关于人本治疗模式的描述中，错误的是 （）。\n",
      "43 A.以人本主义心理学为理论基础 B .注重社会工作者自身的品格和态度\n",
      "44 C.强调个案辅导关系 D .认为个案工作的中心是全面扎实的专业技巧\n",
      "45 E.认为个案工作的中心是创造有利于服务对象自我发展的良好环境\n",
      "46 18.（）是最基本的个案工作服务模式之一，于 1937年由美国的汉密尔顿系统阐述了这一模式的有关理论。\n",
      "47 A.心理社会治疗模式 B .危机介入模式 C .行为治疗模式D.人本治疗模式 E .家庭治疗模式\n",
      "48 19.（）注重从人际交往的场景中了解服务对象。\n",
      "49 A.心理社会治疗模式 B .危机介入模式 C .行为治疗模式\n",
      "50 D.人本治疗模式 E .家庭治疗模式\n",
      "51 20.（）是对服务对象困扰产生变化的过程进行分析，是对服务对象个人历史的考察。\n",
      "52 A.心理动态诊断 B .缘由诊断 C.分类诊断 D .综合诊断 E .结果诊断\n",
      "53 21.心理社会治疗模式依据 （）的概念，把服务过程分为研究、诊断和治疗三个相互紧密关联的实施阶段。 \n",
      "54 A .心理学 B .社会学 C .医学 D .行为学 E .生理学\n"
     ]
    }
   ],
   "source": [
    "from docx import Document\n",
    " \n",
    "doc = Document(\"社工试题100（3）.docx\")\n",
    "for i, paragraph in enumerate(doc.paragraphs[:55]):\n",
    "    print(i, paragraph.text)"
   ]
  },
  {
   "cell_type": "code",
   "execution_count": 6,
   "metadata": {
    "ExecuteTime": {
     "end_time": "2023-02-06T02:52:11.446406Z",
     "start_time": "2023-02-06T02:52:11.413342Z"
    }
   },
   "outputs": [
    {
     "data": {
      "text/plain": [
       "'B.所有的社会成员  C .贫困人员  D .遭受各种灾害的人员  E.灾区群众'"
      ]
     },
     "execution_count": 6,
     "metadata": {},
     "output_type": "execute_result"
    }
   ],
   "source": [
    "doc.paragraphs[3].text\n"
   ]
  },
  {
   "cell_type": "code",
   "execution_count": 13,
   "metadata": {
    "ExecuteTime": {
     "end_time": "2023-02-06T03:17:59.796704Z",
     "start_time": "2023-02-06T03:17:59.758962Z"
    }
   },
   "outputs": [
    {
     "name": "stdout",
     "output_type": "stream",
     "text": [
      "题目 1.社会工作的基本对象是指(  )。\n",
      "选项 ['A.由于个人、社会或自然原因而陷于生活极度困难的群体']\n",
      "选项 ['B.所有的社会成员C.贫困人员D.遭受各种灾害的人员E.灾区群众']\n",
      "题目 2.有位上高一的少年，生活在一个单亲家庭里。他很听话，学习成绩也很优秀，但由于他对现代教育制度中存在的一些问题不满，并逐步发展到恐惧学校、厌恶学校。期间他曾自杀两次，后退学在家，但退学时成绩仍很好。医生诊断其患了抑郁症。此少年存在的问题主要有两个方面∶一是抑郁症；一是学校恐惧症。在本案例中，此少年父母离异可能会导致他缺少家长的悉心照顾，当然也与家庭缺乏正常的必要沟通与交流有关，因而使他变得孤僻、抑郁。另外，此少年患的学校恐惧症可能与其学习压力有关。当前我国正处于由应试教育向素质教育的转轨时期，学校和社会对学生的考试成绩过于重视，让学生感到压力很大。本案例中，此少年尽管学习成绩很好，但由于他承受不了学习的压力，或者感受不到学习的乐趣，从而产生对现代教育体制的厌恶，进而发展到恐惧学校、逃避学校'甚至为了避免去学校而产生自杀的念头。此案例属于学校社会工作方式中的(  ).\n",
      "选项 ['A.治疗型学校社会工作B.变迁型学校社会工作C.社区一学校社会工作']\n",
      "选项 ['D.任务型学校社会工作E.适应型学校社会工作']\n",
      "选项 ['A.公益行动B.社会实践C.价值取向D.个人理念E.道德实践']\n",
      "题目 4.(  )于1965年提出了社会工作价值体系。\n",
      "选项 ['A.比斯台克B.马斯洛C.戈登D.勒温E.泰勒']\n",
      "题目 5.(  )原则是社会工作专业对公众的统一服务态度，是建立专业协助关系的伦理前提。\n",
      "选项 ['A.尊重B.保密C.不批判D.接纳E.个别化']\n",
      "题目 6.本能行为是指(  )。\n",
      "选项 ['A.人与生俱来的行为模式B.出生以后形成的行为模式C.模仿的行为模式D.后天习得的行为E.社会性行为']\n",
      "题目 7，社会环境是指与人类生物遗传、心理状态及社会过程相互作用的社会系统。下列不属于社会环境的是(  )。\n",
      "选项 ['A.家庭B.山川C.风俗习惯D.社区E.报纸']\n",
      "选项 ['A.放松练习B.系统脱敏C.满灌疗法D.厌恶疗法E.模仿']\n",
      "题目 9.(  )是社会工作价值观的理论基础。\n",
      "选项 ['A.人文主义B.人道主义C.人本主义D.发展主义E.科学主义']\n",
      "题目 10.在操作层面上，社会工作价值观可以概括为如下原则，其中不正确的选项是(  )。\n",
      "选项 ['A.接纳与个别化B.尊重与保密C.自决权与知情同意D.不批判E.的权威与机构的效益']\n",
      "题目 11.(  )是行为治疗模式的核心特点。\n",
      "选项 ['A。注重服务对象行为评估B.关注服务对象行为修正C侧重修正行为效果的评估D注重社会工作者自身的品格和态度E.强调个案辅导关系']\n"
     ]
    }
   ],
   "source": [
    "import re\n",
    "from docx import Document\n",
    " \n",
    "doc = Document(\"社工试题100（3）.docx\")\n",
    " \n",
    "black_char = re.compile(\"[\\s\\u3000\\xa0]+\")\n",
    " \n",
    "chinese_nums_rule = re.compile(\"[一二三四]、(.+?)\\(\")\n",
    "title_rule = re.compile(\"\\d+.\")\n",
    "option_rule = re.compile(\"[ABCDEF]\")\n",
    "option_rule_search = re.compile(\"[ABCDEF][^(]+\")\n",
    " \n",
    " \n",
    "# 从word文档的“一、单项选择题”开始遍历数据\n",
    "for paragraph in doc.paragraphs[1:25]:\n",
    "    #  去除空白字符,将全角字符转半角字符，并给括号之间调整为中间二个空格\n",
    "    line = black_char.sub(\"\", paragraph.text).replace(\n",
    "        \"（\", \"(\").replace(\"）\", \")\").replace(\"．\", \".\").replace(\"()\", \"(  )\")\n",
    "    # 对于空白行就直接跳过\n",
    "    if not line:\n",
    "        continue\n",
    "    if title_rule.match(line):\n",
    "        print(\"题目\", line)\n",
    "    elif option_rule.match(line):\n",
    "        print(\"选项\", option_rule_search.findall(line))\n",
    "    else:\n",
    "        chinese_nums_match = chinese_nums_rule.match(line)\n",
    "        if chinese_nums_match:\n",
    "            print(\"题型\", chinese_nums_match.group(1))"
   ]
  },
  {
   "cell_type": "code",
   "execution_count": 18,
   "metadata": {
    "ExecuteTime": {
     "end_time": "2023-02-06T03:56:19.692891Z",
     "start_time": "2023-02-06T03:56:19.591500Z"
    }
   },
   "outputs": [
    {
     "ename": "NameError",
     "evalue": "name 'title2options' is not defined",
     "output_type": "error",
     "traceback": [
      "\u001b[1;31m---------------------------------------------------------------------------\u001b[0m",
      "\u001b[1;31mNameError\u001b[0m                                 Traceback (most recent call last)",
      "\u001b[1;32m<ipython-input-18-29764f1a0289>\u001b[0m in \u001b[0;36m<module>\u001b[1;34m\u001b[0m\n\u001b[0;32m     24\u001b[0m         \u001b[1;32mcontinue\u001b[0m\u001b[1;33m\u001b[0m\u001b[1;33m\u001b[0m\u001b[0m\n\u001b[0;32m     25\u001b[0m     \u001b[1;32mif\u001b[0m \u001b[0mtitle_rule\u001b[0m\u001b[1;33m.\u001b[0m\u001b[0mmatch\u001b[0m\u001b[1;33m(\u001b[0m\u001b[0mline\u001b[0m\u001b[1;33m)\u001b[0m\u001b[1;33m:\u001b[0m\u001b[1;33m\u001b[0m\u001b[1;33m\u001b[0m\u001b[0m\n\u001b[1;32m---> 26\u001b[1;33m         \u001b[0moptions\u001b[0m \u001b[1;33m=\u001b[0m \u001b[0mtitle2options\u001b[0m\u001b[1;33m.\u001b[0m\u001b[0msetdefault\u001b[0m\u001b[1;33m(\u001b[0m\u001b[0mline\u001b[0m\u001b[1;33m,\u001b[0m \u001b[1;33m[\u001b[0m\u001b[1;33m]\u001b[0m\u001b[1;33m)\u001b[0m\u001b[1;33m\u001b[0m\u001b[1;33m\u001b[0m\u001b[0m\n\u001b[0m\u001b[0;32m     27\u001b[0m     \u001b[1;32mif\u001b[0m \u001b[0moption_rule\u001b[0m\u001b[1;33m.\u001b[0m\u001b[0mmatch\u001b[0m\u001b[1;33m(\u001b[0m\u001b[0mline\u001b[0m\u001b[1;33m)\u001b[0m\u001b[1;33m:\u001b[0m\u001b[1;33m\u001b[0m\u001b[1;33m\u001b[0m\u001b[0m\n\u001b[0;32m     28\u001b[0m         \u001b[0moptions\u001b[0m\u001b[1;33m.\u001b[0m\u001b[0mextend\u001b[0m\u001b[1;33m(\u001b[0m\u001b[0moption_rule_search\u001b[0m\u001b[1;33m.\u001b[0m\u001b[0mfindall\u001b[0m\u001b[1;33m(\u001b[0m\u001b[0mline\u001b[0m\u001b[1;33m)\u001b[0m\u001b[1;33m)\u001b[0m\u001b[1;33m\u001b[0m\u001b[1;33m\u001b[0m\u001b[0m\n",
      "\u001b[1;31mNameError\u001b[0m: name 'title2options' is not defined"
     ]
    }
   ],
   "source": [
    "import pandas as pd\n",
    "import re\n",
    "from docx import Document\n",
    "from collections import OrderedDict\n",
    " \n",
    "doc = Document(\"社工试题100（3）.docx\")\n",
    " \n",
    "black_char = re.compile(\"[\\s\\u3000\\xa0]+\")\n",
    " \n",
    "chinese_nums_rule = re.compile(\"[一二三四]、(.+?)\\(\")\n",
    "title_rule = re.compile(\"\\d+.\")\n",
    "option_rule = re.compile(\"\\([ABCDEF]\\)\")\n",
    "option_rule_search = re.compile(\"\\([ABCDEF]\\)[^(]+\")\n",
    " \n",
    "# 保存最终的结构化数据\n",
    "question_type2data = OrderedDict()\n",
    "# 从word文档的“一、单项选择题”开始遍历数据\n",
    "for paragraph in doc.paragraphs[5:]:\n",
    "    #  去除空白字符,将全角字符转半角字符，并给括号之间调整为中间一个空格\n",
    "    line = black_char.sub(\"\", paragraph.text).replace(\n",
    "        \"（\", \"(\").replace(\"）\", \")\").replace(\"．\", \".\").replace(\"()\", \"(  )\")\n",
    "    # 对于空白行就直接跳过\n",
    "    if not line:\n",
    "        continue\n",
    "    if title_rule.match(line):\n",
    "        options = title2options.setdefault(line, [])\n",
    "    if option_rule.match(line):\n",
    "        options.extend(option_rule_search.findall(line))\n",
    "    else:\n",
    "        chinese_nums_match = chinese_nums_rule.match(line)\n",
    "        if chinese_nums_match:\n",
    "            question_type = chinese_nums_match.group(1)\n",
    "            title2options = question_type2data.setdefault(\n",
    "                question_type, OrderedDict())\n",
    " \n",
    "result = []\n",
    "max_options_len = 0\n",
    "for question_type, title2options in question_type2data.items():\n",
    "    for title, options in title2options.items():\n",
    "        result.append([question_type, title, *options])\n",
    "        options_len = len(options)\n",
    "        if options_len > max_options_len:\n",
    "            max_options_len = options_len\n",
    "df = pd.DataFrame(result, columns=[\n",
    "                  \"题型\", \"题目\"]+[f\"选项{i}\" for i in range(1, max_options_len+1)])\n",
    "# 题型可以简化下，去掉选择两个字\n",
    "df['题型'] = df['题型'].str.replace(\"选择\", \"\")\n",
    "df.to_excel(\"result.xlsx\", index=False)"
   ]
  },
  {
   "cell_type": "code",
   "execution_count": null,
   "metadata": {},
   "outputs": [],
   "source": []
  }
 ],
 "metadata": {
  "kernelspec": {
   "display_name": "Python 3",
   "language": "python",
   "name": "python3"
  },
  "language_info": {
   "codemirror_mode": {
    "name": "ipython",
    "version": 3
   },
   "file_extension": ".py",
   "mimetype": "text/x-python",
   "name": "python",
   "nbconvert_exporter": "python",
   "pygments_lexer": "ipython3",
   "version": "3.8.5"
  },
  "toc": {
   "base_numbering": 1,
   "nav_menu": {},
   "number_sections": true,
   "sideBar": true,
   "skip_h1_title": false,
   "title_cell": "Table of Contents",
   "title_sidebar": "Contents",
   "toc_cell": false,
   "toc_position": {},
   "toc_section_display": true,
   "toc_window_display": false
  },
  "varInspector": {
   "cols": {
    "lenName": 16,
    "lenType": 16,
    "lenVar": 40
   },
   "kernels_config": {
    "python": {
     "delete_cmd_postfix": "",
     "delete_cmd_prefix": "del ",
     "library": "var_list.py",
     "varRefreshCmd": "print(var_dic_list())"
    },
    "r": {
     "delete_cmd_postfix": ") ",
     "delete_cmd_prefix": "rm(",
     "library": "var_list.r",
     "varRefreshCmd": "cat(var_dic_list()) "
    }
   },
   "types_to_exclude": [
    "module",
    "function",
    "builtin_function_or_method",
    "instance",
    "_Feature"
   ],
   "window_display": false
  }
 },
 "nbformat": 4,
 "nbformat_minor": 4
}
